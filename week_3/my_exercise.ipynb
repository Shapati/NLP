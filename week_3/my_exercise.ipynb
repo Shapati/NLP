{
 "cells": [
  {
   "cell_type": "code",
   "execution_count": 1,
   "id": "fe59797f-bc4f-40e8-a667-beff130f4d4d",
   "metadata": {},
   "outputs": [],
   "source": [
    "#fetch data from a source"
   ]
  },
  {
   "cell_type": "code",
   "execution_count": 3,
   "id": "fea9300f-dba3-4f26-9086-7b086dc7d8a7",
   "metadata": {},
   "outputs": [
    {
     "name": "stdout",
     "output_type": "stream",
     "text": [
      "File downloaded successfully\n"
     ]
    }
   ],
   "source": [
    "import requests\n",
    "\n",
    "url = 'https://raw.githubusercontent.com/Ali-Alameer/NLP/main/data/processed_train_tweets.csv'\n",
    "response = requests.get(url)\n",
    "\n",
    "if response.status_code == 200:\n",
    "    with open('trained_tweets.csv','wb') as file:\n",
    "        file.write(response.content)\n",
    "    print('File downloaded successfully')\n",
    "else:\n",
    "    print(f'Failed to download csv file status code: {response.status_code}')"
   ]
  },
  {
   "cell_type": "code",
   "execution_count": 4,
   "id": "b3cf3bc9-b9ec-4368-8bf8-f2365f77ce93",
   "metadata": {},
   "outputs": [],
   "source": [
    "#read csv file with pandas"
   ]
  },
  {
   "cell_type": "code",
   "execution_count": 9,
   "id": "8cb91a26-de11-4812-a291-0e1cc0a26f8c",
   "metadata": {},
   "outputs": [],
   "source": [
    "import pandas as pd\n",
    "\n",
    "train_df = pd.read_csv('trained_tweets.csv', index_col = 0)"
   ]
  },
  {
   "cell_type": "code",
   "execution_count": 10,
   "id": "af6215b7-6685-422d-9477-38fe7b219454",
   "metadata": {},
   "outputs": [
    {
     "data": {
      "text/html": [
       "<div>\n",
       "<style scoped>\n",
       "    .dataframe tbody tr th:only-of-type {\n",
       "        vertical-align: middle;\n",
       "    }\n",
       "\n",
       "    .dataframe tbody tr th {\n",
       "        vertical-align: top;\n",
       "    }\n",
       "\n",
       "    .dataframe thead th {\n",
       "        text-align: right;\n",
       "    }\n",
       "</style>\n",
       "<table border=\"1\" class=\"dataframe\">\n",
       "  <thead>\n",
       "    <tr style=\"text-align: right;\">\n",
       "      <th></th>\n",
       "      <th>sentiment</th>\n",
       "      <th>clean_tweet</th>\n",
       "      <th>no_sentences</th>\n",
       "      <th>word_list</th>\n",
       "      <th>word_list_without_sw</th>\n",
       "      <th>final_tweet</th>\n",
       "    </tr>\n",
       "    <tr>\n",
       "      <th>tweet</th>\n",
       "      <th></th>\n",
       "      <th></th>\n",
       "      <th></th>\n",
       "      <th></th>\n",
       "      <th></th>\n",
       "      <th></th>\n",
       "    </tr>\n",
       "  </thead>\n",
       "  <tbody>\n",
       "    <tr>\n",
       "      <th>@user when a father is dysfunctional and is so selfish he drags his kids into his dysfunction.   #run</th>\n",
       "      <td>0</td>\n",
       "      <td>user when a father is dysfunctional and is so ...</td>\n",
       "      <td>2</td>\n",
       "      <td>['user', 'when', 'a', 'father', 'is', 'dysfunc...</td>\n",
       "      <td>['user', 'father', 'dysfunctional', 'selfish',...</td>\n",
       "      <td>user father dysfunctional selfish drag kid dys...</td>\n",
       "    </tr>\n",
       "    <tr>\n",
       "      <th>@user @user thanks for #lyft credit i can't use cause they don't offer wheelchair vans in pdx.    #disapointed #getthanked</th>\n",
       "      <td>0</td>\n",
       "      <td>user user thanks for lyft credit i cannot use ...</td>\n",
       "      <td>2</td>\n",
       "      <td>['user', 'user', 'thanks', 'for', 'lyft', 'cre...</td>\n",
       "      <td>['user', 'user', 'thanks', 'lyft', 'credit', '...</td>\n",
       "      <td>user user thanks lyft credit use offer wheelch...</td>\n",
       "    </tr>\n",
       "    <tr>\n",
       "      <th>bihday your majesty</th>\n",
       "      <td>0</td>\n",
       "      <td>bihday your majesty</td>\n",
       "      <td>1</td>\n",
       "      <td>['bihday', 'your', 'majesty']</td>\n",
       "      <td>['bihday', 'majesty']</td>\n",
       "      <td>bihday majesty</td>\n",
       "    </tr>\n",
       "    <tr>\n",
       "      <th>#model   i love u take with u all the time in urð±!!! ðððð",
       "ð¦ð¦ð¦</th>\n",
       "      <td>0</td>\n",
       "      <td>model i love you take with you all the time in...</td>\n",
       "      <td>2</td>\n",
       "      <td>['model', 'i', 'love', 'you', 'take', 'with', ...</td>\n",
       "      <td>['model', 'love', 'take', 'time', 'areð\\x9f\\x9...</td>\n",
       "      <td>model love take time areð± ðððð ð...</td>\n",
       "    </tr>\n",
       "    <tr>\n",
       "      <th>factsguide: society now    #motivation</th>\n",
       "      <td>0</td>\n",
       "      <td>factsguide society now motivation</td>\n",
       "      <td>1</td>\n",
       "      <td>['factsguide', 'society', 'now', 'motivation']</td>\n",
       "      <td>['factsguide', 'society', 'motivation']</td>\n",
       "      <td>factsguide society motivation</td>\n",
       "    </tr>\n",
       "  </tbody>\n",
       "</table>\n",
       "</div>"
      ],
      "text/plain": [
       "                                                    sentiment  \\\n",
       "tweet                                                           \n",
       " @user when a father is dysfunctional and is so...          0   \n",
       "@user @user thanks for #lyft credit i can't use...          0   \n",
       "  bihday your majesty                                       0   \n",
       "#model   i love u take with u all the time in u...          0   \n",
       " factsguide: society now    #motivation                     0   \n",
       "\n",
       "                                                                                          clean_tweet  \\\n",
       "tweet                                                                                                   \n",
       " @user when a father is dysfunctional and is so...  user when a father is dysfunctional and is so ...   \n",
       "@user @user thanks for #lyft credit i can't use...  user user thanks for lyft credit i cannot use ...   \n",
       "  bihday your majesty                                                             bihday your majesty   \n",
       "#model   i love u take with u all the time in u...  model i love you take with you all the time in...   \n",
       " factsguide: society now    #motivation                             factsguide society now motivation   \n",
       "\n",
       "                                                    no_sentences  \\\n",
       "tweet                                                              \n",
       " @user when a father is dysfunctional and is so...             2   \n",
       "@user @user thanks for #lyft credit i can't use...             2   \n",
       "  bihday your majesty                                          1   \n",
       "#model   i love u take with u all the time in u...             2   \n",
       " factsguide: society now    #motivation                        1   \n",
       "\n",
       "                                                                                            word_list  \\\n",
       "tweet                                                                                                   \n",
       " @user when a father is dysfunctional and is so...  ['user', 'when', 'a', 'father', 'is', 'dysfunc...   \n",
       "@user @user thanks for #lyft credit i can't use...  ['user', 'user', 'thanks', 'for', 'lyft', 'cre...   \n",
       "  bihday your majesty                                                   ['bihday', 'your', 'majesty']   \n",
       "#model   i love u take with u all the time in u...  ['model', 'i', 'love', 'you', 'take', 'with', ...   \n",
       " factsguide: society now    #motivation                ['factsguide', 'society', 'now', 'motivation']   \n",
       "\n",
       "                                                                                 word_list_without_sw  \\\n",
       "tweet                                                                                                   \n",
       " @user when a father is dysfunctional and is so...  ['user', 'father', 'dysfunctional', 'selfish',...   \n",
       "@user @user thanks for #lyft credit i can't use...  ['user', 'user', 'thanks', 'lyft', 'credit', '...   \n",
       "  bihday your majesty                                                           ['bihday', 'majesty']   \n",
       "#model   i love u take with u all the time in u...  ['model', 'love', 'take', 'time', 'areð\\x9f\\x9...   \n",
       " factsguide: society now    #motivation                       ['factsguide', 'society', 'motivation']   \n",
       "\n",
       "                                                                                          final_tweet  \n",
       "tweet                                                                                                  \n",
       " @user when a father is dysfunctional and is so...  user father dysfunctional selfish drag kid dys...  \n",
       "@user @user thanks for #lyft credit i can't use...  user user thanks lyft credit use offer wheelch...  \n",
       "  bihday your majesty                                                                  bihday majesty  \n",
       "#model   i love u take with u all the time in u...  model love take time areð± ðððð ð...  \n",
       " factsguide: society now    #motivation                                 factsguide society motivation  "
      ]
     },
     "execution_count": 10,
     "metadata": {},
     "output_type": "execute_result"
    }
   ],
   "source": [
    "train_df.head()"
   ]
  },
  {
   "cell_type": "code",
   "execution_count": 11,
   "id": "97172020-e884-4943-9cfa-dd65f2c03e00",
   "metadata": {},
   "outputs": [],
   "source": [
    "#shape of csv file , which is the amount of rows and columns"
   ]
  },
  {
   "cell_type": "code",
   "execution_count": 16,
   "id": "7ae0a75b-7b36-49fe-b672-49f673e73f3f",
   "metadata": {},
   "outputs": [
    {
     "name": "stdout",
     "output_type": "stream",
     "text": [
      "(31962, 6)\n"
     ]
    }
   ],
   "source": [
    "print(train_df.shape)"
   ]
  },
  {
   "cell_type": "code",
   "execution_count": 22,
   "id": "b7765c07-85ef-4bbe-aefb-f2b89733e185",
   "metadata": {},
   "outputs": [
    {
     "name": "stdout",
     "output_type": "stream",
     "text": [
      "sentiment\n",
      "0    29720\n",
      "1     2242\n",
      "Name: count, dtype: int64\n"
     ]
    }
   ],
   "source": [
    "print(train_df.sentiment.value_counts())"
   ]
  },
  {
   "cell_type": "code",
   "execution_count": 23,
   "id": "852646a5-2dca-40f2-9d24-efba7638fe5f",
   "metadata": {},
   "outputs": [],
   "source": [
    "#convert words to numbers that computer can easily read"
   ]
  },
  {
   "cell_type": "code",
   "execution_count": 26,
   "id": "d96d1eb8-75d5-4d30-82b9-8602ac55a954",
   "metadata": {},
   "outputs": [],
   "source": [
    "from sklearn.feature_extraction.text import CountVectorizer\n",
    "\n",
    "cv = CountVectorizer(max_features = 8000, ngram_range = (1,2))\n",
    "X = cv.fit_transform(train_df.final_tweet.values.astype('U')).toarray()\n",
    "y = train_df.sentiment"
   ]
  },
  {
   "cell_type": "code",
   "execution_count": 28,
   "id": "4881a038-c068-4640-888f-65dd81b25052",
   "metadata": {},
   "outputs": [
    {
     "name": "stdout",
     "output_type": "stream",
     "text": [
      "number of tweets in training dataset:  25569\n",
      "number of tweets in testing dataset:  6393\n"
     ]
    }
   ],
   "source": [
    "from sklearn.model_selection import train_test_split\n",
    "\n",
    "X_train,X_test,y_train,y_test = train_test_split(X , y , test_size = 0.2 ,  random_state = 42)\n",
    "\n",
    "print(\"number of tweets in training dataset: \", len(X_train))\n",
    "print(\"number of tweets in testing dataset: \", len(X_test))"
   ]
  },
  {
   "cell_type": "code",
   "execution_count": null,
   "id": "cdca48de-c041-4396-84c4-adf904b2b140",
   "metadata": {},
   "outputs": [],
   "source": []
  }
 ],
 "metadata": {
  "kernelspec": {
   "display_name": "Python 3 (ipykernel)",
   "language": "python",
   "name": "python3"
  },
  "language_info": {
   "codemirror_mode": {
    "name": "ipython",
    "version": 3
   },
   "file_extension": ".py",
   "mimetype": "text/x-python",
   "name": "python",
   "nbconvert_exporter": "python",
   "pygments_lexer": "ipython3",
   "version": "3.8.10"
  }
 },
 "nbformat": 4,
 "nbformat_minor": 5
}
